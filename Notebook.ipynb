{
 "cells": [
  {
   "cell_type": "markdown",
   "id": "45478414",
   "metadata": {},
   "source": [
    "# DSCB310 – Datenanalyse und Business Intelligence 1 – Übungsblatt 2 – WS 2022/23 "
   ]
  },
  {
   "cell_type": "markdown",
   "id": "83c37090",
   "metadata": {},
   "source": [
    "Matrikelnummern: 80720, 67915, 79713"
   ]
  },
  {
   "cell_type": "markdown",
   "id": "39cf0868",
   "metadata": {},
   "source": [
    "## Vorverarbeitung der Daten"
   ]
  },
  {
   "cell_type": "code",
   "execution_count": 1,
   "id": "d459476b",
   "metadata": {},
   "outputs": [],
   "source": [
    "import numpy as np\n",
    "import pandas as pd\n",
    "import plotly.express as px\n",
    "import matplotlib as mpl\n",
    "import matplotlib.pyplot as plt\n",
    "import missingno as msn\n",
    "import seaborn as sns\n",
    "import json\n",
    "import warnings\n",
    "from scipy.stats import chi2_contingency\n",
    "from scipy.stats import chi2\n",
    "from plotly.subplots import make_subplots\n",
    "\n",
    "pfad = (\"Shopping_Carts.parquet\")\n",
    "df = pd.read_parquet(pfad)\n",
    "\n",
    "df.reordered = df.reordered.astype(bool)\n",
    "\n",
    "days = {0:'Monday', 1:'Tuesday', 2:'Wednesday', 3:'Thursday', 4:'Friday', 5:'Saturday', 6:'Sunday'}\n",
    "df['order_dow'] = df['order_dow'].map(days)\n",
    "\n",
    "df.tip = df.tip.astype(bool)"
   ]
  },
  {
   "cell_type": "code",
   "execution_count": null,
   "id": "aa845d23-9e81-4888-ba93-6ba46ecb226e",
   "metadata": {},
   "outputs": [],
   "source": [
    "with open('california-counties.geojson') as response:\n",
    "    counties = json.load(response)"
   ]
  },
  {
   "cell_type": "markdown",
   "id": "c389d5b0",
   "metadata": {},
   "source": [
    "## Explorative Datenanalyse"
   ]
  },
  {
   "cell_type": "code",
   "execution_count": null,
   "id": "47f23382-9905-4706-9de3-1cf4f4b4d6fc",
   "metadata": {},
   "outputs": [],
   "source": [
    "print(f'Der Datensatz enthält {df.order_id.nunique()} unterschiedliche Bestellungen, von {df.user_id.nunique()} verschiedenen Usern.')\n",
    "print(f'Es wurden {df.product_id.nunique()} Produkte verkauft, aus {df.department_id.nunique()} Departments die in {df.aisle_id.nunique()} Aisles aufgeteilt sind.')\n",
    "print(f'Die Produkte wurden in {df.county.nunique()} Countys in Californien verkauft.')"
   ]
  },
  {
   "cell_type": "code",
   "execution_count": null,
   "id": "41abfa76-5c0f-4cf8-b258-a2ee5ccea5e2",
   "metadata": {},
   "outputs": [],
   "source": [
    "px.bar(df.groupby([\"order_dow\", 'tip'], as_index=False)[[\"order_id\"]].count().rename(columns={\"order_id\" : \"Anzahl\"}), \n",
    "       x=\"order_dow\", y=\"Anzahl\", \n",
    "       category_orders={\"order_dow\" : [\"Monday\", \"Tuesday\", \"Wednesday\", \"Thursday\", \"Friday\", \"Saturday\", \"Sunday\"]}, \n",
    "       color='tip',\n",
    "       labels={'order_dow': 'Tag der Bestellung', 'Anzahl': 'Anzahl an Bestellungen'},\n",
    "       title='Montags und dienstags die meisten Bestellungen'\n",
    "      )"
   ]
  },
  {
   "cell_type": "code",
   "execution_count": null,
   "id": "df66bf97-0e75-47a0-b0f7-3699bc46f209",
   "metadata": {},
   "outputs": [],
   "source": [
    "tab = pd.crosstab(df['order_hour_of_day'], df['order_dow'])\n",
    "px.line(tab, labels={'order_hour_of_day': 'Stunden am Tag', 'value': 'Anzahl an Bestellungen'}, title='Peak um die Mittagsstunden')"
   ]
  },
  {
   "cell_type": "markdown",
   "id": "d7012347",
   "metadata": {},
   "source": [
    "## Aufgaben Personalabteilung"
   ]
  },
  {
   "cell_type": "code",
   "execution_count": null,
   "id": "373b4cb5-ae12-4476-87bf-d84478f78b89",
   "metadata": {},
   "outputs": [],
   "source": [
    "tab_viz = pd.crosstab(df['order_dow'], df['tip'], normalize='index')\n",
    "\n",
    "fig = px.bar(tab_viz, barmode='group', \n",
    "             category_orders={\"order_dow\" : [\"Monday\", \"Tuesday\", \"Wednesday\", \"Thursday\", \"Friday\", \"Saturday\", \"Sunday\"]},\n",
    "             labels={'order_dow': 'Tag der Bestellung', 'value': 'Anteil'},\n",
    "             title='Montags und dienstags geben Kunden mehr Trinkgeld'\n",
    "            )\n",
    "\n",
    "fig.show()"
   ]
  },
  {
   "cell_type": "code",
   "execution_count": null,
   "id": "184dd22b-fe83-4500-9d91-82715c99a6da",
   "metadata": {},
   "outputs": [],
   "source": [
    "df_viz_tip = pd.DataFrame(pd.crosstab([df['department'], df['aisle']], df['tip'], normalize='index').sort_values(by=True, ascending=False)).reset_index()\n",
    "px.treemap(df_viz_tip,\n",
    "           path=['department', 'aisle'], color=True,\n",
    "           height=500, title='Bei Bestellungen mit Alkohol gab es mehr Trinkgeld'\n",
    "           )"
   ]
  },
  {
   "cell_type": "code",
   "execution_count": null,
   "id": "5f68ac4c-9131-4d86-9b53-dbe769cd7b6c",
   "metadata": {},
   "outputs": [],
   "source": [
    "tab = pd.crosstab(df['order_hour_of_day'], df['tip'], normalize='index')\n",
    "px.bar(tab, labels={'order_hour_of_day': 'Stunden am Tag', 'value': 'Anteil'}, title='Mehr Trinkgeld bei frühen/späten Bestellungen')"
   ]
  },
  {
   "cell_type": "markdown",
   "id": "6c300dc2-53f6-4cae-b339-2a4f6f5dec50",
   "metadata": {},
   "source": [
    "### P.1 Zusammenhang zwischen Produkten (24852, 24964 und 2120) in einer Bestellung und Trinkgeldverhalten"
   ]
  },
  {
   "cell_type": "markdown",
   "id": "81458c2d",
   "metadata": {},
   "source": [
    "#### Produkt Nummer 24852: Bananen (fresh fruits / Obst)"
   ]
  },
  {
   "cell_type": "code",
   "execution_count": null,
   "id": "94821177",
   "metadata": {},
   "outputs": [],
   "source": [
    "dfproduct24852 = df[df[\"product_id\"]==24852]\n",
    "pd.crosstab(dfproduct24852['tip'], dfproduct24852[\"product_id\"], normalize='columns')"
   ]
  },
  {
   "cell_type": "code",
   "execution_count": null,
   "id": "0b0658ef",
   "metadata": {},
   "outputs": [],
   "source": [
    "px.bar(pd.crosstab(dfproduct24852['tip'], dfproduct24852[\"product_id\"], normalize='columns'))"
   ]
  },
  {
   "cell_type": "code",
   "execution_count": null,
   "id": "45f8a48c",
   "metadata": {},
   "outputs": [],
   "source": [
    "dfaisleff=df[df[\"aisle\"]==\"fresh fruits\"]\n",
    "dfaisleff[[\"aisle\",\"tip\"]].groupby(\"aisle\").mean()"
   ]
  },
  {
   "cell_type": "markdown",
   "id": "b07b5407",
   "metadata": {},
   "source": [
    "Schaut man sich die Tip-Rate für Bestellungen an, bei denen Bananen dabei sind, so fällt auf, dass im Vergleich zur durchschnittlichen Trinkgeldwahrscheinlichkeit über alle Produkte (45%) die Trinkgeldrate schon etwas angestiegen ist, nämlich auf 53%. <br> <br> Nun schauen wir uns noch an, wie viel Prozent die Produkte durchschnittlich bekommen, die zur Kategorie \"fresh fruits\" gehören. Dabei fällt auf, dass der Durchschnitt hier 47% beträgt.<br><br> Es lässt sich also sagen, dass alleine durch Produkte aus der Kategorie \"fresh fruits\" die Trinkgeldwahrscheinlichkeit steigt. Bestellt der Kunde zusätzlich noch das Produkt \"Banane\", so steigt die Tip-Rate erneut ein bisschen an"
   ]
  },
  {
   "cell_type": "markdown",
   "id": "f07d893d",
   "metadata": {},
   "source": [
    "#### Produkt Nummer 24964: Organic Garlic (Knoblauch) (fresh vegetables / Gemüse)"
   ]
  },
  {
   "cell_type": "code",
   "execution_count": null,
   "id": "6905c168",
   "metadata": {},
   "outputs": [],
   "source": [
    "df24964 = df[df[\"product_id\"]==24964]\n",
    "pd.crosstab(df24964['tip'], df24964[\"product_id\"], normalize='columns')"
   ]
  },
  {
   "cell_type": "code",
   "execution_count": null,
   "id": "cff3ca70",
   "metadata": {},
   "outputs": [],
   "source": [
    "px.bar(pd.crosstab(df24964['tip'], df24964[\"product_id\"], normalize='columns'))"
   ]
  },
  {
   "cell_type": "code",
   "execution_count": null,
   "id": "5c17ae9d",
   "metadata": {},
   "outputs": [],
   "source": [
    "dfaislefv=df[df[\"aisle\"]==\"fresh vegetables\"]\n",
    "dfaislefv[[\"aisle\",\"tip\"]].groupby(\"aisle\").mean()"
   ]
  },
  {
   "cell_type": "markdown",
   "id": "c7e25edb",
   "metadata": {},
   "source": [
    "Bei dem Produkt Organic Garlic fällt zuerst einmal auf, dass die Trinkgeldwahrscheinlichkeit, wenn das Produkt sich in einer Bestellung findet, ein bisschen niedriger ist (42%) als der Durchschnitt über alle Produkte (45%). <br><br> Auch hier haben wir uns erneut angeschaut, wie das Tip-Verhalten ist, wenn ein Produkt aus der Kategorie \"fresh vegetables\" sich in der Bestellung eines Kunden befindet. Dabei fällt auf, dass sich die Wahrscheinlichkeit von Trinkgeld nicht verändert hat und immer noch bei ca. 42% liegt. <br><br> Daraus lässt sich schließen, dass sobald ein Kunde ein Produkt aus der Kategorie \"fresh vegetables\" bestellt, sich die Trinkgeldwahrscheinlichkeit etwas verringert. Bestellt er dann zusätzlich noch \"Organic Garlic\" verändert sich diese Wahrscheinlichkeit jedoch nicht mehr."
   ]
  },
  {
   "cell_type": "markdown",
   "id": "12959f35",
   "metadata": {},
   "source": [
    "#### Produkt Nummer 2120: Sauvignon Blanc (Wein) (department alcohol)"
   ]
  },
  {
   "cell_type": "code",
   "execution_count": null,
   "id": "7933e33d",
   "metadata": {},
   "outputs": [],
   "source": [
    "df2120 = df[df[\"product_id\"]==2120]\n",
    "pd.crosstab(df2120['tip'], df2120[\"product_id\"], normalize='columns')"
   ]
  },
  {
   "cell_type": "code",
   "execution_count": null,
   "id": "e36e83b7",
   "metadata": {},
   "outputs": [],
   "source": [
    "px.bar(pd.crosstab(df2120['tip'], df2120[\"product_id\"], normalize='columns'))"
   ]
  },
  {
   "cell_type": "code",
   "execution_count": null,
   "id": "8efe139a",
   "metadata": {},
   "outputs": [],
   "source": [
    "dfa=df[df[\"aisle\"]==\"white wines\"]\n",
    "dfa[[\"aisle\",\"tip\"]].groupby(\"aisle\").mean()"
   ]
  },
  {
   "cell_type": "code",
   "execution_count": null,
   "id": "906ca926",
   "metadata": {},
   "outputs": [],
   "source": [
    "#Chi-Quadrat Versuch\n",
    "df2 = df.copy()\n",
    "df2['new_col'] = np.where(df['product_id']==2120,'2120', 'Other')\n",
    "pd.crosstab(df2['tip'], df2[\"new_col\"])\n",
    "# Zählen der Anzahl von Trinkgeld-Gebern und Nicht-Trinkgeld-Gebern\n",
    "observed_values = pd.crosstab(index=df2['tip'], columns=df2[\"new_col\"])\n",
    "\n",
    "# Durchführung des chi-Quadrat-Tests\n",
    "chi2, p, dof, expected_values = chi2_contingency(observed_values)\n",
    "\n",
    "if p < 0.01:\n",
    "    print(f\"Hoch Signifikant\\np-Wert: {p}\")\n",
    "elif p < 0.5:\n",
    "    print(f\"Signifikant\\np-Wert: {p}\")\n",
    "else:\n",
    "    print(f\"Nicht signifikant\\np-Wert: {p}\")"
   ]
  },
  {
   "cell_type": "markdown",
   "id": "382c8a89",
   "metadata": {},
   "source": [
    "Als wir uns das Produkt Sauvignon Blanc angesehen haben, ist uns ein enormer Sprung bei der Trinkgeldwahrscheinlichkeit auf 84% aufgefallen. Daraufhin haben wir überprüft, ob das Produkt einfach zu wenige Bestellungen hat und dadurch eine so hohe Tip-Rate entstanden ist. Jedoch wurde das Produkt insgesamt um die 1.500 mal bestellt und somit kann man hier nicht mehr von reinem Zufall sprechen. Zu dem wurde das Ergebnis mit mehreren Samples der Grundmenge erneut durchgeführt und nur leichte schwankungen von 0,5% bis 2% beobachtet. <br><br> Auch hier wurde dies dann wieder mit der Wahrscheinlichkeit für die Kategorie (Weiße Weine) verglichen, wobei diese eine Tip-Rate von 84% hat. Auch das Department \"Alkohol\" wurde überprüft und auch dieses hat eine sehr hohe 82% Wahrscheinlichkeit für Trinkgeld. <br><br> Abschließend kann man sagen, sobald der Kunde ein Produkt aus dem Department \"Alkohol\" oder der Kategorie \"Weiße Weine\" bestellt, steigt die Trinkgeldwahrscheinlichkeit sehr stark an. Wird anschließend noch das Produkt Sauvignon Blanc dazu bestellt, ändert sich die bereits sehr hohe Trinkgeldwahrscheinlichkeit (82%) nur ein bisschen, auf 84%"
   ]
  },
  {
   "cell_type": "markdown",
   "id": "058d3be3",
   "metadata": {},
   "source": [
    "### P.2: Regionale Unterschiede beim Trinkgeldverhalten"
   ]
  },
  {
   "cell_type": "code",
   "execution_count": null,
   "id": "f73e2f38",
   "metadata": {},
   "outputs": [],
   "source": [
    "tip_per_county = pd.crosstab(df['county'], df['tip'], normalize='index')\n",
    "tip_per_county = tip_per_county.reset_index()\n",
    "tip_per_county = tip_per_county.drop(axis=1, labels=[False], errors='ignore')\n",
    "df = df.merge(tip_per_county, left_on='county', right_on='county')\n",
    "df = df.rename(columns={True: 'tip_rate'})"
   ]
  },
  {
   "cell_type": "code",
   "execution_count": null,
   "id": "f5732f79",
   "metadata": {},
   "outputs": [],
   "source": [
    "fig = px.choropleth_mapbox(data_frame=df, geojson=counties, \n",
    "                           featureidkey='properties.name', locations='county',\n",
    "                           color='tip_rate',\n",
    "                           mapbox_style=\"carto-positron\",\n",
    "                           zoom=4.2, center = {\"lat\":  37.17571858166602, \"lon\": -119.41580973739858},\n",
    "                           height=500,\n",
    "                           labels={'tip_rate': 'Trinkgeld-Wahrscheinlichkeit'},\n",
    "                           color_continuous_scale=\"RdYlGn\"\n",
    "                          )\n",
    "fig.show()"
   ]
  },
  {
   "cell_type": "code",
   "execution_count": 2,
   "id": "ac1683be",
   "metadata": {},
   "outputs": [],
   "source": [
    "dff = df[df['tip']==False]\n",
    "x = ((df[['county','tip']].groupby(\"county\").count() - dff[['county','tip']].groupby(\"county\").count()) / df[['county','tip']].groupby(\"county\").count()).rename(columns={\"tip\":\"tipPercentage\"})\n",
    "y = df[[\"order_id\",\"county\"]].groupby(\"county\").count().rename(columns={\"order_id\":\"orderCount\"})\n",
    "dfTipCountCounty = x.merge(y, how=\"inner\", on=\"county\")\n",
    "dfTipCountCounty = dfTipCountCounty.sort_values(by=\"tipPercentage\", ascending=False)"
   ]
  },
  {
   "cell_type": "code",
   "execution_count": 3,
   "id": "671c794a",
   "metadata": {},
   "outputs": [
    {
     "data": {
      "application/vnd.plotly.v1+json": {
       "config": {
        "plotlyServerURL": "https://plot.ly"
       },
       "data": [
        {
         "hovertemplate": "county=%{x}<br>tipPercentage=%{y}<extra></extra>",
         "legendgroup": "",
         "line": {
          "color": "Red",
          "dash": "solid"
         },
         "marker": {
          "symbol": "circle"
         },
         "mode": "lines",
         "name": "",
         "orientation": "v",
         "showlegend": false,
         "type": "scatter",
         "x": [
          "San Diego",
          "Santa Barbara",
          "Modoc",
          "El Dorado",
          "Tuolumne",
          "Del Norte",
          "Humboldt",
          "San Bernardino",
          "Mono",
          "Lassen",
          "San Benito",
          "Merced",
          "San Francisco",
          "Colusa",
          "Sierra",
          "Glenn",
          "Solano",
          "Kern",
          "Kings",
          "Siskiyou",
          "Shasta",
          "Los Angeles",
          "Fresno",
          "Orange",
          "Placer",
          "Santa Clara",
          "Yuba",
          "San Mateo",
          "Imperial",
          "Calaveras",
          "Amador",
          "Madera",
          "Alpine",
          "Plumas",
          "Sutter",
          "Contra Costa",
          "Nevada",
          "Ventura",
          "Napa",
          "Alameda",
          "Riverside",
          "Tehama",
          "San Luis Obispo",
          "Yolo",
          "Monterey",
          "San Joaquin",
          "Mariposa",
          "Sonoma",
          "Marin",
          "Stanislaus",
          "Sacramento",
          "Mendocino",
          "Santa Cruz",
          "Lake",
          "Inyo",
          "Tulare",
          "Trinity"
         ],
         "xaxis": "x",
         "y": [
          0.5606907894736842,
          0.5381902423844266,
          0.5326349887465556,
          0.5305712247941387,
          0.5259263884119502,
          0.5217503883997928,
          0.5188251835650679,
          0.5067567567567568,
          0.5047714716223004,
          0.5033620689655173,
          0.49953411697247707,
          0.48937211128706243,
          0.485923571280492,
          0.48564805540451594,
          0.48248935163274964,
          0.4807460798024661,
          0.48024657534246573,
          0.47743576053773595,
          0.47686023062205907,
          0.4738710735317183,
          0.47029517997259934,
          0.46945323320499627,
          0.4661326866718258,
          0.46603942765492595,
          0.46511627906976744,
          0.4605908484651173,
          0.45838085899719183,
          0.4571416033088679,
          0.4567995980587563,
          0.4561782681465295,
          0.45609023053041814,
          0.44932526826910735,
          0.44800912344410015,
          0.44671682741672136,
          0.44653870721159383,
          0.4463870307378956,
          0.4441468755263601,
          0.43132833583208396,
          0.4305031269367288,
          0.41800662095057933,
          0.4092043714471504,
          0.4081028792534426,
          0.4074415921546005,
          0.3945801916208402,
          0.39257785732973965,
          0.38775762063433294,
          0.38041966345501427,
          0.3737928536938677,
          0.369095583438855,
          0.3610165147021129,
          0.3577875369919855,
          0.3575606958516536,
          0.3448438650712222,
          0.32122785456855246,
          0.320221950462701,
          0.2996947496947497,
          0.226215644820296
         ],
         "yaxis": "y"
        },
        {
         "alignmentgroup": "True",
         "hovertemplate": "county=%{x}<br>orderCount=%{y}<extra></extra>",
         "legendgroup": "",
         "marker": {
          "color": "Blue",
          "pattern": {
           "shape": ""
          }
         },
         "name": "",
         "offsetgroup": "",
         "orientation": "v",
         "showlegend": false,
         "textposition": "auto",
         "type": "bar",
         "x": [
          "San Diego",
          "Santa Barbara",
          "Modoc",
          "El Dorado",
          "Tuolumne",
          "Del Norte",
          "Humboldt",
          "San Bernardino",
          "Mono",
          "Lassen",
          "San Benito",
          "Merced",
          "San Francisco",
          "Colusa",
          "Sierra",
          "Glenn",
          "Solano",
          "Kern",
          "Kings",
          "Siskiyou",
          "Shasta",
          "Los Angeles",
          "Fresno",
          "Orange",
          "Placer",
          "Santa Clara",
          "Yuba",
          "San Mateo",
          "Imperial",
          "Calaveras",
          "Amador",
          "Madera",
          "Alpine",
          "Plumas",
          "Sutter",
          "Contra Costa",
          "Nevada",
          "Ventura",
          "Napa",
          "Alameda",
          "Riverside",
          "Tehama",
          "San Luis Obispo",
          "Yolo",
          "Monterey",
          "San Joaquin",
          "Mariposa",
          "Sonoma",
          "Marin",
          "Stanislaus",
          "Sacramento",
          "Mendocino",
          "Santa Cruz",
          "Lake",
          "Inyo",
          "Tulare",
          "Trinity"
         ],
         "xaxis": "x",
         "y": [
          24320,
          173526,
          95082,
          15423,
          32033,
          19310,
          6401,
          148,
          29865,
          23200,
          83712,
          155346,
          144710,
          34943,
          29582,
          390414,
          36500,
          292188,
          38678,
          70133,
          40145,
          157398,
          357941,
          395915,
          258,
          95219,
          149919,
          91149,
          181121,
          502479,
          121112,
          132423,
          133283,
          59409,
          286497,
          96721,
          59370,
          250125,
          17749,
          16916,
          47673,
          8787,
          34670,
          70556,
          240793,
          8103,
          235808,
          16568,
          78183,
          27309,
          94953,
          52310,
          158869,
          144838,
          54787,
          16380,
          1419
         ],
         "yaxis": "y2"
        }
       ],
       "layout": {
        "template": {
         "data": {
          "bar": [
           {
            "error_x": {
             "color": "#2a3f5f"
            },
            "error_y": {
             "color": "#2a3f5f"
            },
            "marker": {
             "line": {
              "color": "#E5ECF6",
              "width": 0.5
             },
             "pattern": {
              "fillmode": "overlay",
              "size": 10,
              "solidity": 0.2
             }
            },
            "type": "bar"
           }
          ],
          "barpolar": [
           {
            "marker": {
             "line": {
              "color": "#E5ECF6",
              "width": 0.5
             },
             "pattern": {
              "fillmode": "overlay",
              "size": 10,
              "solidity": 0.2
             }
            },
            "type": "barpolar"
           }
          ],
          "carpet": [
           {
            "aaxis": {
             "endlinecolor": "#2a3f5f",
             "gridcolor": "white",
             "linecolor": "white",
             "minorgridcolor": "white",
             "startlinecolor": "#2a3f5f"
            },
            "baxis": {
             "endlinecolor": "#2a3f5f",
             "gridcolor": "white",
             "linecolor": "white",
             "minorgridcolor": "white",
             "startlinecolor": "#2a3f5f"
            },
            "type": "carpet"
           }
          ],
          "choropleth": [
           {
            "colorbar": {
             "outlinewidth": 0,
             "ticks": ""
            },
            "type": "choropleth"
           }
          ],
          "contour": [
           {
            "colorbar": {
             "outlinewidth": 0,
             "ticks": ""
            },
            "colorscale": [
             [
              0,
              "#0d0887"
             ],
             [
              0.1111111111111111,
              "#46039f"
             ],
             [
              0.2222222222222222,
              "#7201a8"
             ],
             [
              0.3333333333333333,
              "#9c179e"
             ],
             [
              0.4444444444444444,
              "#bd3786"
             ],
             [
              0.5555555555555556,
              "#d8576b"
             ],
             [
              0.6666666666666666,
              "#ed7953"
             ],
             [
              0.7777777777777778,
              "#fb9f3a"
             ],
             [
              0.8888888888888888,
              "#fdca26"
             ],
             [
              1,
              "#f0f921"
             ]
            ],
            "type": "contour"
           }
          ],
          "contourcarpet": [
           {
            "colorbar": {
             "outlinewidth": 0,
             "ticks": ""
            },
            "type": "contourcarpet"
           }
          ],
          "heatmap": [
           {
            "colorbar": {
             "outlinewidth": 0,
             "ticks": ""
            },
            "colorscale": [
             [
              0,
              "#0d0887"
             ],
             [
              0.1111111111111111,
              "#46039f"
             ],
             [
              0.2222222222222222,
              "#7201a8"
             ],
             [
              0.3333333333333333,
              "#9c179e"
             ],
             [
              0.4444444444444444,
              "#bd3786"
             ],
             [
              0.5555555555555556,
              "#d8576b"
             ],
             [
              0.6666666666666666,
              "#ed7953"
             ],
             [
              0.7777777777777778,
              "#fb9f3a"
             ],
             [
              0.8888888888888888,
              "#fdca26"
             ],
             [
              1,
              "#f0f921"
             ]
            ],
            "type": "heatmap"
           }
          ],
          "heatmapgl": [
           {
            "colorbar": {
             "outlinewidth": 0,
             "ticks": ""
            },
            "colorscale": [
             [
              0,
              "#0d0887"
             ],
             [
              0.1111111111111111,
              "#46039f"
             ],
             [
              0.2222222222222222,
              "#7201a8"
             ],
             [
              0.3333333333333333,
              "#9c179e"
             ],
             [
              0.4444444444444444,
              "#bd3786"
             ],
             [
              0.5555555555555556,
              "#d8576b"
             ],
             [
              0.6666666666666666,
              "#ed7953"
             ],
             [
              0.7777777777777778,
              "#fb9f3a"
             ],
             [
              0.8888888888888888,
              "#fdca26"
             ],
             [
              1,
              "#f0f921"
             ]
            ],
            "type": "heatmapgl"
           }
          ],
          "histogram": [
           {
            "marker": {
             "pattern": {
              "fillmode": "overlay",
              "size": 10,
              "solidity": 0.2
             }
            },
            "type": "histogram"
           }
          ],
          "histogram2d": [
           {
            "colorbar": {
             "outlinewidth": 0,
             "ticks": ""
            },
            "colorscale": [
             [
              0,
              "#0d0887"
             ],
             [
              0.1111111111111111,
              "#46039f"
             ],
             [
              0.2222222222222222,
              "#7201a8"
             ],
             [
              0.3333333333333333,
              "#9c179e"
             ],
             [
              0.4444444444444444,
              "#bd3786"
             ],
             [
              0.5555555555555556,
              "#d8576b"
             ],
             [
              0.6666666666666666,
              "#ed7953"
             ],
             [
              0.7777777777777778,
              "#fb9f3a"
             ],
             [
              0.8888888888888888,
              "#fdca26"
             ],
             [
              1,
              "#f0f921"
             ]
            ],
            "type": "histogram2d"
           }
          ],
          "histogram2dcontour": [
           {
            "colorbar": {
             "outlinewidth": 0,
             "ticks": ""
            },
            "colorscale": [
             [
              0,
              "#0d0887"
             ],
             [
              0.1111111111111111,
              "#46039f"
             ],
             [
              0.2222222222222222,
              "#7201a8"
             ],
             [
              0.3333333333333333,
              "#9c179e"
             ],
             [
              0.4444444444444444,
              "#bd3786"
             ],
             [
              0.5555555555555556,
              "#d8576b"
             ],
             [
              0.6666666666666666,
              "#ed7953"
             ],
             [
              0.7777777777777778,
              "#fb9f3a"
             ],
             [
              0.8888888888888888,
              "#fdca26"
             ],
             [
              1,
              "#f0f921"
             ]
            ],
            "type": "histogram2dcontour"
           }
          ],
          "mesh3d": [
           {
            "colorbar": {
             "outlinewidth": 0,
             "ticks": ""
            },
            "type": "mesh3d"
           }
          ],
          "parcoords": [
           {
            "line": {
             "colorbar": {
              "outlinewidth": 0,
              "ticks": ""
             }
            },
            "type": "parcoords"
           }
          ],
          "pie": [
           {
            "automargin": true,
            "type": "pie"
           }
          ],
          "scatter": [
           {
            "fillpattern": {
             "fillmode": "overlay",
             "size": 10,
             "solidity": 0.2
            },
            "type": "scatter"
           }
          ],
          "scatter3d": [
           {
            "line": {
             "colorbar": {
              "outlinewidth": 0,
              "ticks": ""
             }
            },
            "marker": {
             "colorbar": {
              "outlinewidth": 0,
              "ticks": ""
             }
            },
            "type": "scatter3d"
           }
          ],
          "scattercarpet": [
           {
            "marker": {
             "colorbar": {
              "outlinewidth": 0,
              "ticks": ""
             }
            },
            "type": "scattercarpet"
           }
          ],
          "scattergeo": [
           {
            "marker": {
             "colorbar": {
              "outlinewidth": 0,
              "ticks": ""
             }
            },
            "type": "scattergeo"
           }
          ],
          "scattergl": [
           {
            "marker": {
             "colorbar": {
              "outlinewidth": 0,
              "ticks": ""
             }
            },
            "type": "scattergl"
           }
          ],
          "scattermapbox": [
           {
            "marker": {
             "colorbar": {
              "outlinewidth": 0,
              "ticks": ""
             }
            },
            "type": "scattermapbox"
           }
          ],
          "scatterpolar": [
           {
            "marker": {
             "colorbar": {
              "outlinewidth": 0,
              "ticks": ""
             }
            },
            "type": "scatterpolar"
           }
          ],
          "scatterpolargl": [
           {
            "marker": {
             "colorbar": {
              "outlinewidth": 0,
              "ticks": ""
             }
            },
            "type": "scatterpolargl"
           }
          ],
          "scatterternary": [
           {
            "marker": {
             "colorbar": {
              "outlinewidth": 0,
              "ticks": ""
             }
            },
            "type": "scatterternary"
           }
          ],
          "surface": [
           {
            "colorbar": {
             "outlinewidth": 0,
             "ticks": ""
            },
            "colorscale": [
             [
              0,
              "#0d0887"
             ],
             [
              0.1111111111111111,
              "#46039f"
             ],
             [
              0.2222222222222222,
              "#7201a8"
             ],
             [
              0.3333333333333333,
              "#9c179e"
             ],
             [
              0.4444444444444444,
              "#bd3786"
             ],
             [
              0.5555555555555556,
              "#d8576b"
             ],
             [
              0.6666666666666666,
              "#ed7953"
             ],
             [
              0.7777777777777778,
              "#fb9f3a"
             ],
             [
              0.8888888888888888,
              "#fdca26"
             ],
             [
              1,
              "#f0f921"
             ]
            ],
            "type": "surface"
           }
          ],
          "table": [
           {
            "cells": {
             "fill": {
              "color": "#EBF0F8"
             },
             "line": {
              "color": "white"
             }
            },
            "header": {
             "fill": {
              "color": "#C8D4E3"
             },
             "line": {
              "color": "white"
             }
            },
            "type": "table"
           }
          ]
         },
         "layout": {
          "annotationdefaults": {
           "arrowcolor": "#2a3f5f",
           "arrowhead": 0,
           "arrowwidth": 1
          },
          "autotypenumbers": "strict",
          "coloraxis": {
           "colorbar": {
            "outlinewidth": 0,
            "ticks": ""
           }
          },
          "colorscale": {
           "diverging": [
            [
             0,
             "#8e0152"
            ],
            [
             0.1,
             "#c51b7d"
            ],
            [
             0.2,
             "#de77ae"
            ],
            [
             0.3,
             "#f1b6da"
            ],
            [
             0.4,
             "#fde0ef"
            ],
            [
             0.5,
             "#f7f7f7"
            ],
            [
             0.6,
             "#e6f5d0"
            ],
            [
             0.7,
             "#b8e186"
            ],
            [
             0.8,
             "#7fbc41"
            ],
            [
             0.9,
             "#4d9221"
            ],
            [
             1,
             "#276419"
            ]
           ],
           "sequential": [
            [
             0,
             "#0d0887"
            ],
            [
             0.1111111111111111,
             "#46039f"
            ],
            [
             0.2222222222222222,
             "#7201a8"
            ],
            [
             0.3333333333333333,
             "#9c179e"
            ],
            [
             0.4444444444444444,
             "#bd3786"
            ],
            [
             0.5555555555555556,
             "#d8576b"
            ],
            [
             0.6666666666666666,
             "#ed7953"
            ],
            [
             0.7777777777777778,
             "#fb9f3a"
            ],
            [
             0.8888888888888888,
             "#fdca26"
            ],
            [
             1,
             "#f0f921"
            ]
           ],
           "sequentialminus": [
            [
             0,
             "#0d0887"
            ],
            [
             0.1111111111111111,
             "#46039f"
            ],
            [
             0.2222222222222222,
             "#7201a8"
            ],
            [
             0.3333333333333333,
             "#9c179e"
            ],
            [
             0.4444444444444444,
             "#bd3786"
            ],
            [
             0.5555555555555556,
             "#d8576b"
            ],
            [
             0.6666666666666666,
             "#ed7953"
            ],
            [
             0.7777777777777778,
             "#fb9f3a"
            ],
            [
             0.8888888888888888,
             "#fdca26"
            ],
            [
             1,
             "#f0f921"
            ]
           ]
          },
          "colorway": [
           "#636efa",
           "#EF553B",
           "#00cc96",
           "#ab63fa",
           "#FFA15A",
           "#19d3f3",
           "#FF6692",
           "#B6E880",
           "#FF97FF",
           "#FECB52"
          ],
          "font": {
           "color": "#2a3f5f"
          },
          "geo": {
           "bgcolor": "white",
           "lakecolor": "white",
           "landcolor": "#E5ECF6",
           "showlakes": true,
           "showland": true,
           "subunitcolor": "white"
          },
          "hoverlabel": {
           "align": "left"
          },
          "hovermode": "closest",
          "mapbox": {
           "style": "light"
          },
          "paper_bgcolor": "white",
          "plot_bgcolor": "#E5ECF6",
          "polar": {
           "angularaxis": {
            "gridcolor": "white",
            "linecolor": "white",
            "ticks": ""
           },
           "bgcolor": "#E5ECF6",
           "radialaxis": {
            "gridcolor": "white",
            "linecolor": "white",
            "ticks": ""
           }
          },
          "scene": {
           "xaxis": {
            "backgroundcolor": "#E5ECF6",
            "gridcolor": "white",
            "gridwidth": 2,
            "linecolor": "white",
            "showbackground": true,
            "ticks": "",
            "zerolinecolor": "white"
           },
           "yaxis": {
            "backgroundcolor": "#E5ECF6",
            "gridcolor": "white",
            "gridwidth": 2,
            "linecolor": "white",
            "showbackground": true,
            "ticks": "",
            "zerolinecolor": "white"
           },
           "zaxis": {
            "backgroundcolor": "#E5ECF6",
            "gridcolor": "white",
            "gridwidth": 2,
            "linecolor": "white",
            "showbackground": true,
            "ticks": "",
            "zerolinecolor": "white"
           }
          },
          "shapedefaults": {
           "line": {
            "color": "#2a3f5f"
           }
          },
          "ternary": {
           "aaxis": {
            "gridcolor": "white",
            "linecolor": "white",
            "ticks": ""
           },
           "baxis": {
            "gridcolor": "white",
            "linecolor": "white",
            "ticks": ""
           },
           "bgcolor": "#E5ECF6",
           "caxis": {
            "gridcolor": "white",
            "linecolor": "white",
            "ticks": ""
           }
          },
          "title": {
           "x": 0.05
          },
          "xaxis": {
           "automargin": true,
           "gridcolor": "white",
           "linecolor": "white",
           "ticks": "",
           "title": {
            "standoff": 15
           },
           "zerolinecolor": "white",
           "zerolinewidth": 2
          },
          "yaxis": {
           "automargin": true,
           "gridcolor": "white",
           "linecolor": "white",
           "ticks": "",
           "title": {
            "standoff": 15
           },
           "zerolinecolor": "white",
           "zerolinewidth": 2
          }
         }
        },
        "title": {
         "text": "Starke Schwankung bei Trinkgeldvergabe nicht allein zurückzuführen auf Anzahl Bestellungen"
        },
        "xaxis": {
         "anchor": "y",
         "domain": [
          0,
          0.94
         ]
        },
        "yaxis": {
         "anchor": "x",
         "color": "red",
         "domain": [
          0,
          1
         ],
         "title": {
          "text": "Trinkgeldanteil"
         }
        },
        "yaxis2": {
         "anchor": "x",
         "color": "blue",
         "overlaying": "y",
         "side": "right",
         "title": {
          "text": "Bestellhäufigkeit"
         }
        }
       }
      }
     },
     "metadata": {},
     "output_type": "display_data"
    }
   ],
   "source": [
    "fig1 = px.line(dfTipCountCounty.reset_index(), y=\"tipPercentage\", x=\"county\")\n",
    "fig2 = px.bar(dfTipCountCounty.reset_index(), y=\"orderCount\", x=\"county\")\n",
    "fig2.update_traces(yaxis=\"y2\")\n",
    "fig = make_subplots(specs=[[{\"secondary_y\":True}]])\n",
    "fig.update_yaxes(title_text=\"Trinkgeldanteil\", secondary_y=False, color=\"red\")\n",
    "fig.update_yaxes(title_text=\"Bestellhäufigkeit\", secondary_y=True, color=\"blue\")\n",
    "fig.add_traces(fig1.data + fig2.data)\n",
    "fig.update_traces(line=dict(color=\"Red\"), secondary_y=False)\n",
    "fig.update_traces(marker=dict(color=\"Blue\"), secondary_y=True)\n",
    "fig.update_layout(title_text=\"Starke Schwankung bei Trinkgeldvergabe nicht allein zurückzuführen auf Anzahl Bestellungen\")\n",
    "fig.show()"
   ]
  },
  {
   "cell_type": "markdown",
   "id": "85961ad7",
   "metadata": {},
   "source": [
    "Es lassen sich teilweise starke bis sehr starke Schwankungen bei den durchschnittlichen Trinkgeldwahrscheinlichkeiten der einzelnen Counties erkennen. Jedoch, entgegen der Hypothese, dass dies auf die unterschiedliche Menge an Bestellungen pro County zurückzuführen ist, gibt es nur bei einem County einen deutlichen Rückgang der Tip-Rate, wo gleichzeitig auch sehr wenige Bestellungen getätigt wurden. Bei den anderen Counties, ist nämlich auch eine deutliche Schwankung der Trinkgeldraten zu sehen. Zwischen 56% und 34%, obwohl die Anzahl an Bestellung bei über ca. 10.000 liegen. <br> <br>Obwohl in manchen Counties die niedrige Anzahl an Bestellungen diese Schwankungen verursacht haben könnten, gibt es eine vielzahl an anderen Counties, bei denen dieses Verhalten, auch wenn nicht so extrem, auch aufgetreten ist. Somit muss es an anderen Faktoren liegen, weshalb die Trinkgeldwahrscheinlichkeiten regional so unterschiedlich sind"
   ]
  },
  {
   "cell_type": "markdown",
   "id": "f53c3311",
   "metadata": {},
   "source": [
    "### P.3: Welche Attribute wirken sich auf das Trinkgeldverhalten aus?"
   ]
  },
  {
   "cell_type": "code",
   "execution_count": null,
   "id": "b9a58156",
   "metadata": {},
   "outputs": [],
   "source": [
    "#Erstellung einer Korrelationsmatrix \n",
    "corrMa = df.corr()\n",
    "mask = np.array(corrMa)\n",
    "mask[np.tril_indices_from(mask)] = False\n",
    "fig,ax= plt.subplots()\n",
    "fig.set_size_inches(20,10)\n",
    "ax.set_title(\"\")\n",
    "sns.heatmap(corrMa,mask=mask,vmax=.8, square=True, annot=True)"
   ]
  },
  {
   "cell_type": "code",
   "execution_count": null,
   "id": "02903c2f",
   "metadata": {},
   "outputs": [],
   "source": [
    "corrplot = corrMa[8:-3]\n",
    "corrplot = corrplot.drop(['tip', \"tip_rate\"], axis=1)\n",
    "corrplot = corrplot.T\n",
    "\n",
    "fig = px.bar(corrplot, orientation=\"h\", labels={\"index\":\"Attribute\", \"value\":\"Auswirkung\", \"variable\":\"Variable\"}, title=\"Korrelation von \\\"days_since_prior_order\\\" mit \\\"tip\\\" am stärksten\")\n",
    "fig.show()"
   ]
  },
  {
   "cell_type": "markdown",
   "id": "8c706d96",
   "metadata": {},
   "source": [
    "Bei den Attributen, die die Trinkgeldwahrscheinlichkeit beeinflussen, gibt es gleich mehere die diese positiv Verändern: <br> - add_to_cart_order: Steigt diese Zahl an, also hat der Kunde in einer Bestellung viele Produkte so steigt die Wahrscheinlich für Trinkgeld. <br> - reordered: Bestellt der Kunde erneut ein Produkt, beziehungsweiße auch mehrere Produkte, welches er schonmal gekauft hat, so steigt auch hier die Wahrscheinlich für Trinkgeld. <br> - order_number: Wenn der Kunde bereits öfter bestellt, die Anzahl an Bestellungen des Kunden insgesamt also hoch, so beeinflusst dies ebenso positiv die Wahrscheinlich für Trinkgeld. <br><br> Ebenso gibt es aber auch Attribute die die Trinkgeldwahrscheinlichkeit verschlechtern: <br> - days_since_prior_order: Je länger die letzte Bestellung eines Kunden her ist, desto niedriger wird auch die Trinkgeldwahrscheinlich bei diesem Kunden, sollte er erneut etwas bestellen."
   ]
  },
  {
   "cell_type": "markdown",
   "id": "e0e17bcf",
   "metadata": {},
   "source": [
    "### P.4: Spielt die Vergangenheit eines Users eine Rolle bei der Trinkgeldwahrscheinlichkeit?"
   ]
  },
  {
   "cell_type": "markdown",
   "id": "8a70a0b9",
   "metadata": {},
   "source": [
    "![alt text](Bilder\\outputCut.png \"Screenshot\")"
   ]
  },
  {
   "cell_type": "code",
   "execution_count": null,
   "id": "e36faff8",
   "metadata": {},
   "outputs": [],
   "source": [
    "X = df[[\"user_id\",\"order_number\",\"tip\"]].groupby([\"user_id\", \"order_number\",\"tip\"],as_index=False).count()\n",
    "X[\"cumsum\"] = X.groupby([\"user_id\"])[\"tip\"].transform(pd.Series.cumsum)\n",
    "df = df.merge(X)\n",
    "df[\"TipHistory\"] = df[\"cumsum\"] / df[\"order_number\"]\n",
    "df = df.drop('cumsum', axis=1)"
   ]
  },
  {
   "cell_type": "code",
   "execution_count": null,
   "id": "b6064885",
   "metadata": {},
   "outputs": [],
   "source": [
    "#define used DataFrames\n",
    "Y = df[[\"TipHistory\",\"order_number\",\"user_id\"]].groupby([\"order_number\"], as_index=False).mean()\n",
    "Y2 = df[[\"TipHistory\",\"order_number\",\"user_id\"]].groupby([\"order_number\"], as_index=False).count()\n",
    "\n",
    "#define colors to use\n",
    "col1 = 'steelblue'\n",
    "col2 = 'red'\n",
    "\n",
    "#define subplots\n",
    "fig,ax = plt.subplots(figsize=(15,8),)\n",
    "\n",
    "#add first line to plot\n",
    "ax.plot(Y.order_number, Y.TipHistory, color=col1)\n",
    "\n",
    "#add x-axis label\n",
    "ax.set_xlabel('order_number', fontsize=12, )\n",
    "\n",
    "#add y-axis label\n",
    "ax.set_ylabel('Tip', color=col1, fontsize=12)\n",
    "\n",
    "#Horizontal Line (TipRate Average (All orders))\n",
    "l = ax.axhline(y=0.447496, color='g', linestyle='-')\n",
    "\n",
    "#define second y-axis that shares x-axis with current plot\n",
    "ax2 = ax.twinx()\n",
    "\n",
    "#add second line to plot\n",
    "ax2.plot(Y.order_number, Y2.user_id, color=col2)\n",
    "\n",
    "#add second y-axis label\n",
    "ax2.set_ylabel('Anzahl Bestellungen', color=col2, fontsize=12)\n",
    "\n",
    "#add a title\n",
    "plt.title('Durschnittliche Trinkgeldwahrscheinlichkeit sinkt nach dem Peak bei Usern mit mehr als 39 Bestellungen ')\n",
    "\n",
    "ax.text(x=0.5, y=0.5, s='AVG tip rate (Über alle Daten)', fontsize=13, color='g', horizontalalignment='right', verticalalignment='center', transform=ax.transAxes)\n",
    "\n",
    "ax.set_xticks(range(0,105,5))"
   ]
  },
  {
   "cell_type": "markdown",
   "id": "3b171ee3",
   "metadata": {},
   "source": [
    "Ob die Vergangenheit des Nutzers oder die Parameter der Bestellung eine größere Rolle bei der bestimmung des Trinkgeld spielt wurde mit der Hilfe eines Machine Learning Modells überprüft. Es wurde ein Random Forest mit allen Spalten (außer 'product_name', 'department', 'aisle' lediglich ihre *_id Spalten wurden verwendet). Zusätzlich wurde der Prozentuale Anteil an erneut bestellten Produkten pro Bestellung eines Users und pro User insgesamt berechnet und dem Modell gelernt. Mit 80% Accuracy auf den Testdaten waren unter den Top 5 der wichtigsten Features: Reorderanteil des Users, die User ID und die Zeit der letzten Bestellung eines Users. Die tatsächlichen Parameter einer Bestellung waren für das Modell eher unwichtig und gering. <br><br> Daraus schließen wir, dass die tatsächlichen Parameter einer Bestellung nicht so wichtig sind, wie die Vergangen Daten des Users. <br><br>**Der Code für das Maschine-Learning-Model befindet sich am Ende des Notebooks** "
   ]
  },
  {
   "cell_type": "markdown",
   "id": "3803776e-6087-422c-a6cd-358fe5641126",
   "metadata": {},
   "source": [
    "## Aufgaben Dispositon"
   ]
  },
  {
   "cell_type": "code",
   "execution_count": null,
   "id": "d091061f-9c42-4010-b180-391bfae30416",
   "metadata": {},
   "outputs": [],
   "source": [
    "countyCount_vis = df.groupby('county')[['product_id']].count().sort_values(by='product_id', ascending=False).reset_index().rename(columns={'product_id': 'count_prod_per_county'})\n",
    "fig = px.choropleth_mapbox(data_frame=countyCount_vis, geojson=counties, \n",
    "                           featureidkey='properties.name', locations='county',\n",
    "                           color='count_prod_per_county', color_continuous_scale=px.colors.sequential.Brwnyl,\n",
    "                           mapbox_style=\"carto-positron\",\n",
    "                           zoom=4.2, center = {\"lat\":  37.17571858166602, \"lon\": -119.41580973739858},\n",
    "                           height=500,\n",
    "                           labels={'count_prod_per_county': 'Anzahl gekaufter Produkte pro County'}\n",
    "                          )\n",
    "fig.show()"
   ]
  },
  {
   "cell_type": "code",
   "execution_count": null,
   "id": "79de0e44-5194-4e27-b780-3685c51ec0af",
   "metadata": {},
   "outputs": [],
   "source": [
    "df_product_count_s = df.groupby(['county', 'product_id', 'product_name'], as_index=False)[['order_id']].count()\n",
    "df_product_count_s = df_product_count_s.rename(columns={'order_id': 'product_count'})\n",
    "df_product_count_s['ranking_in_products'] = df_product_count_s.groupby('county')[['product_count']].rank(method='dense', ascending=False)"
   ]
  },
  {
   "cell_type": "code",
   "execution_count": null,
   "id": "f2c1809f-bd36-4afc-ae5d-696d11479587",
   "metadata": {},
   "outputs": [],
   "source": [
    "top5counties = df_product_count_s[(df_product_count_s.county.isin(['Calaveras', 'Orange', 'Glenn', 'Fresno', 'Kern']))&(df_product_count_s.ranking_in_products.isin([1.0, 2.0, 3.0]))].sort_values(by=['county', 'ranking_in_products'])"
   ]
  },
  {
   "cell_type": "code",
   "execution_count": null,
   "id": "432f0c3c-19c5-486f-a463-ca829e30868d",
   "metadata": {},
   "outputs": [],
   "source": [
    "fig = px.bar(top5counties, x='ranking_in_products', y='product_count', \n",
    "             color='product_name', facet_col='county',\n",
    "             category_orders={'ranking_in_products': [2.0, 1.0, 3.0]},\n",
    "             text='product_name',\n",
    "             color_discrete_sequence=['yellow', 'orange', 'red', 'green'],\n",
    "             labels={'ranking_in_products': 'Rang', 'product_count': 'Anzahl an Produkten'},\n",
    "             title='Top3-Produkte in den fünf stärksten Counties'\n",
    "            )\n",
    "\n",
    "fig.show()"
   ]
  },
  {
   "cell_type": "code",
   "execution_count": null,
   "id": "2dd59e76-b979-4838-bf45-2c24d2df329e",
   "metadata": {},
   "outputs": [],
   "source": [
    "df_department_count_s = df.groupby(['county', 'department_id', 'department'], as_index=False)[['order_id']].count()\n",
    "df_department_count_s = df_department_count_s.rename(columns={'order_id': 'department_count'})\n",
    "df_department_count_s['ranking_in_departments'] = df_department_count_s.groupby('county')[['department_count']].rank(method='dense', ascending=False)"
   ]
  },
  {
   "cell_type": "code",
   "execution_count": null,
   "id": "ac529096-db96-4481-b180-a9d593382018",
   "metadata": {},
   "outputs": [],
   "source": [
    "top5counties_d = df_department_count_s[(df_department_count_s.county.isin(['Calaveras', 'Orange', 'Glenn', 'Fresno', 'Kern']))&(df_department_count_s.ranking_in_departments.isin([1.0, 2.0, 3.0]))].sort_values(by=['county', 'ranking_in_departments'])"
   ]
  },
  {
   "cell_type": "code",
   "execution_count": null,
   "id": "aac8c1be-3ce9-4a15-b404-e633af1dea32",
   "metadata": {},
   "outputs": [],
   "source": [
    "fig = px.bar(top5counties_d, x='ranking_in_departments', y='department_count', \n",
    "             color='department', facet_col='county',\n",
    "             category_orders={'ranking_in_products': [2.0, 1.0, 3.0]},\n",
    "             text='department',\n",
    "             labels={'ranking_in_departments': 'Rang', 'department_count': 'Anzahl an Produkten'},\n",
    "             title='Top3-Departments in den fünf stärksten Counties'\n",
    "            )\n",
    "\n",
    "fig.show()"
   ]
  },
  {
   "cell_type": "code",
   "execution_count": null,
   "id": "c67a9ba3-3388-41bc-aa81-6fb6f682c7a4",
   "metadata": {},
   "outputs": [],
   "source": [
    "df_aisle_count_s = df.groupby(['county', 'aisle_id', 'aisle'], as_index=False)[['order_id']].count()\n",
    "df_aisle_count_s = df_aisle_count_s.rename(columns={'order_id': 'aisle_count'})\n",
    "df_aisle_count_s['ranking_in_aisles'] = df_aisle_count_s.groupby('county')[['aisle_count']].rank(method='dense', ascending=False)"
   ]
  },
  {
   "cell_type": "code",
   "execution_count": null,
   "id": "586d9cf7-8737-4dfa-9808-554904039755",
   "metadata": {},
   "outputs": [],
   "source": [
    "top5counties_d = df_aisle_count_s[(df_aisle_count_s.county.isin(['Calaveras', 'Orange', 'Glenn', 'Fresno', 'Kern']))&(df_aisle_count_s.ranking_in_aisles.isin([1.0, 2.0, 3.0]))].sort_values(by=['county', 'ranking_in_aisles'])"
   ]
  },
  {
   "cell_type": "code",
   "execution_count": null,
   "id": "6e5998e6-57b5-46e2-a6ac-1bca043edeb9",
   "metadata": {},
   "outputs": [],
   "source": [
    "fig = px.bar(top5counties_d, x='ranking_in_aisles', y='aisle_count', \n",
    "             color='aisle', facet_col='county',\n",
    "             category_orders={'ranking_in_aisles': [2.0, 1.0, 3.0]},\n",
    "             text='aisle',\n",
    "             labels={'ranking_in_aisles': 'Rang', 'aisle_count': 'Anzahl an Produkten'},\n",
    "             title='Top3-Aisles in den fünf stärksten Counties'\n",
    "            )\n",
    "\n",
    "fig.show()"
   ]
  },
  {
   "cell_type": "markdown",
   "id": "9af0427a",
   "metadata": {},
   "source": [
    "### D.1: Prüfen Sie, ob es beim Produkt 13176 auffällige Muster beim Wiederbestellverhalten gibt."
   ]
  },
  {
   "cell_type": "code",
   "execution_count": null,
   "id": "0702ff82",
   "metadata": {},
   "outputs": [],
   "source": [
    "df_product_size = df.groupby(\"product_id\", as_index=False).size().rename(columns={\"size\":\"Anzahl\"})\n",
    "df_product_size[\"total_product_rank\"] = df_product_size[\"Anzahl\"].rank(method=\"dense\", ascending=False)\n",
    "df_product_size = df_product_size.sort_values(\"total_product_rank\").merge(df[[\"product_id\", \"product_name\"]].drop_duplicates())"
   ]
  },
  {
   "cell_type": "code",
   "execution_count": null,
   "id": "3c1d922a",
   "metadata": {},
   "outputs": [],
   "source": [
    "print(\"Produktname:\", df.loc[df[\"product_id\"] == 13176][\"product_name\"].unique()[0])\n",
    "print(round(len(df.loc[df[\"product_id\"] == 13176, \"product_id\"]) / len(df.product_id) * 100, 2), \"%\", \"aller bestellten Produkte sind das Produkt \\\"Bag of organic Bananas\\\" und somit Platz\", int(df_product_size.loc[df_product_size[\"product_id\"] == 13176, \"total_product_rank\"].max()), \"der meistverkauften Produkte\")\n",
    "print(round(df.loc[df[\"product_id\"] == 13176].order_id.nunique() / df.order_id.nunique() * 100, 2), \"%\", \"aller Bestellungen enthalten das Produkt \\\"Bag of organic Bananas\\\"\")\n",
    "print(\"Liste der Counties in denen das Produkt nicht bestellt wurde: \", set(df.county.unique()) - set(df.loc[df[\"product_id\"] == 13176].county.unique()))"
   ]
  },
  {
   "cell_type": "code",
   "execution_count": null,
   "id": "e95f062d",
   "metadata": {},
   "outputs": [],
   "source": [
    "df.loc[df[\"product_id\"] == 13176][[\"department\", \"aisle\"]].drop_duplicates()"
   ]
  },
  {
   "cell_type": "code",
   "execution_count": null,
   "id": "ec0a53f3",
   "metadata": {},
   "outputs": [],
   "source": [
    "fig = px.bar(df.loc[df[\"product_id\"] == 13176].groupby(\"reordered\", as_index=False).size(), x=\"reordered\", y=\"size\", labels={\"size\":\"Anzahl\", \"reordered\":\"Wiederbestellung\"}, title=\"Bestellungen von Produkt 13176 sind meist Wiederbestellung\")\n",
    "gesamt_zahl = df.loc[df[\"product_id\"] == 13176, \"product_id\"].count()\n",
    "false_zahl = df.loc[(df[\"product_id\"] == 13176) & (df[\"reordered\"] == False), \"product_id\"].count()\n",
    "false_anteil = round(false_zahl / gesamt_zahl * 100, 2)\n",
    "true_zahl = df.loc[(df[\"product_id\"] == 13176) & (df[\"reordered\"] == True), \"product_id\"].count()\n",
    "true_anteil = round(true_zahl / gesamt_zahl * 100, 2)\n",
    "fig.add_annotation(x=\"false\", y=false_zahl, text=f\"{false_zahl} ({false_anteil}%)\")\n",
    "fig.add_annotation(x=\"true\", y=true_zahl, text=f\"{true_zahl} ({true_anteil}%)\")\n",
    "fig.show()"
   ]
  },
  {
   "cell_type": "code",
   "execution_count": null,
   "id": "ddb49d6d",
   "metadata": {},
   "outputs": [],
   "source": [
    "df_anfrage = df.loc[df[\"product_id\"] == 13176].groupby([\"add_to_cart_order\", \"reordered\"], as_index=False).size()\n",
    "fig = px.line(df_anfrage.loc[df_anfrage[\"size\"] >= 20], x=\"add_to_cart_order\", y=\"size\", color=\"reordered\", labels={\"size\":\"Anzahl\", \"add_to_cart_order\":\"Warenkorbposition\"}, title=\"Hoher Anteil niedriger Warenkorbpositionen\")\n",
    "fig.add_vline(df.loc[df[\"product_id\"] == 13176, \"add_to_cart_order\"].mean(), annotation={\"text\":\"Mittelwert\"})\n",
    "fig.show()"
   ]
  },
  {
   "cell_type": "code",
   "execution_count": null,
   "id": "a7aa9a6a",
   "metadata": {},
   "outputs": [],
   "source": [
    "str_anteil = round(df.loc[df[\"product_id\"]==13176, \"tip\"].mean(), 3)\n",
    "fig = px.bar(pd.crosstab(df.loc[df[\"product_id\"]==13176, \"reordered\"], df.loc[df[\"product_id\"]==13176, \"tip\"], normalize=\"index\").rename(columns={False:\"Nix\", True:\"True\"})[[\"True\"]], title=f\"Trinkgeldanteil von Produkt \\\"Bag of organic Bananas\\\": {str_anteil}, Wiederbestellung erhöht den Anteil des Trinkgelds\", labels={\"reordered\":\"Wiederbestellung\", \"value\":\"Anteil\"})\n",
    "str_anteil = round(df.tip.mean(), 3)\n",
    "fig.add_hline(df.tip.mean(), annotation={\"text\":f\"Durchschnittlicher Trinkgeldanteil auf allen Daten ({str_anteil})\"}, annotation_position=\"top left\")\n",
    "y_value = round((df.loc[(df[\"product_id\"]==13176) & (df[\"reordered\"] == True), \"tip\"].mean()), 3)\n",
    "fig.add_annotation(x=\"true\", y=y_value, text=f\"{y_value}\")\n",
    "fig.show()"
   ]
  },
  {
   "cell_type": "code",
   "execution_count": null,
   "id": "99a82d4a",
   "metadata": {},
   "outputs": [],
   "source": [
    "px.bar(df.loc[df[\"product_id\"]==13176].groupby([\"order_dow\", \"reordered\"], as_index=False).size(), x=\"order_dow\", y=\"size\", facet_col=\"reordered\", labels={\"size\":\"Anzahl\", \"order_dow\":\"Wochentag\"}, category_orders={\"order_dow\" : [\"Monday\", \"Tuesday\", \"Wednesday\", \"Thursday\", \"Friday\", \"Saturday\", \"Sunday\"]})"
   ]
  },
  {
   "cell_type": "code",
   "execution_count": null,
   "id": "a31a7849",
   "metadata": {},
   "outputs": [],
   "source": [
    "# Dauert viel zu lange (30min +)\n",
    "# df[\"prior_order_13176\"] = False\n",
    "# for index, row in df.loc[df[\"product_id\"] == 13176][[\"user_id\", \"order_number\", \"prior_order_13176\"]].drop_duplicates().sort_values([\"user_id\", \"order_number\"]).iterrows():\n",
    "#     df.loc[(df[\"user_id\"] == row.user_id) & (df[\"order_number\"] == row.order_number + 1), \"prior_order_13176\"] = True\n",
    "# df.to_csv(\"priororder_df_output.csv\")\n",
    "\n",
    "df_ = pd.read_csv(\"priororder_df_output.csv\", index_col=\"index\")"
   ]
  },
  {
   "cell_type": "code",
   "execution_count": null,
   "id": "3b395943",
   "metadata": {},
   "outputs": [],
   "source": [
    "px.histogram(df_.loc[(df_.prior_order_13176) & (df_[\"product_id\"] == 13176)], x= \"days_since_prior_order\", title=\"Wartezeit zwischen Folgebestellungen die beide Produkt 13176 enthalten\")"
   ]
  },
  {
   "cell_type": "code",
   "execution_count": null,
   "id": "4555f993",
   "metadata": {},
   "outputs": [],
   "source": [
    "px.bar(df_.loc[(df_.prior_order_13176) & (df_[\"product_id\"] == 13176)].groupby([\"order_dow\"], as_index=False)[[\"order_id\"]].count().rename(columns={\"order_id\" : \"Anzahl\"}), x=\"order_dow\", y=\"Anzahl\", category_orders={\"order_dow\" : [\"Monday\", \"Tuesday\", \"Wednesday\", \"Thursday\", \"Friday\", \"Saturday\", \"Sunday\"]}, title=\"Bestellungen, wenn vorherige Bestellung Produkt 13176 enthielt auf Wochentage\")\n"
   ]
  },
  {
   "cell_type": "code",
   "execution_count": null,
   "id": "ef8481ed",
   "metadata": {},
   "outputs": [],
   "source": [
    "px.histogram(df_.loc[(df_.prior_order_13176) & (df_[\"product_id\"] == 13176)], x = \"order_hour_of_day\")"
   ]
  },
  {
   "cell_type": "code",
   "execution_count": null,
   "id": "1c0735f2",
   "metadata": {},
   "outputs": [],
   "source": [
    "pd.crosstab(df_.loc[(df_.prior_order_13176) & (df_[\"product_id\"] == 13176)].product_id, df_.loc[(df_.prior_order_13176) & (df_[\"product_id\"] == 13176)].tip, normalize=\"index\")"
   ]
  },
  {
   "cell_type": "code",
   "execution_count": null,
   "id": "5aa41641",
   "metadata": {},
   "outputs": [],
   "source": [
    "print(\"Counties in denen Produkt 13176 nie in 2 Folgebestellungen aufgetreten ist:\\n\", set(df_.county.unique()) - set(df_.loc[(df_.prior_order_13176) & (df_[\"product_id\"] == 13176)].county.unique()))"
   ]
  },
  {
   "cell_type": "markdown",
   "id": "64d320b1",
   "metadata": {},
   "source": [
    "### D.2: Spielen die Artikel aus dem Department „produce“ in allen Counties eine gleich große Rolle?"
   ]
  },
  {
   "cell_type": "code",
   "execution_count": null,
   "id": "c97b0dfa",
   "metadata": {},
   "outputs": [],
   "source": [
    "print(\"Anzahl verschiedener Produkte:\", df.product_id.nunique())\n",
    "print(\"Anzahl verschiedener Produkte aus dem Department \\\"produce\\\":\", df.loc[df[\"department\"] == \"produce\"].product_id.nunique())\n",
    "print(\"Anteil:\", round(100 * df.loc[df[\"department\"] == \"produce\"].product_id.nunique() / df.product_id.nunique(), 2), \"%\")"
   ]
  },
  {
   "cell_type": "code",
   "execution_count": null,
   "id": "711d35f6",
   "metadata": {},
   "outputs": [],
   "source": [
    "print(round(df.loc[df[\"department\"] == \"produce\"].order_id.nunique() / df.order_id.nunique() * 100, 2), \"%\", \"der Bestellungen enthält ein Produkt aus dem Department \\\"Produce\\\"\")"
   ]
  },
  {
   "cell_type": "code",
   "execution_count": null,
   "id": "6bfd296b",
   "metadata": {},
   "outputs": [],
   "source": [
    "fig = px.histogram(df.loc[df[\"department\"] == \"produce\"].groupby([\"order_id\"], as_index=False).size(), x=\"size\", title=\"Anzahl an Produce-Artikeln pro Bestellungen (mit mindestens 1 Artikel)\", labels={\"size\":\"Anzahl Produce-Artikel\"})\n",
    "mw = df.loc[df[\"department\"] == \"produce\"].groupby([\"order_id\"], as_index=False).size()[\"size\"].mean()\n",
    "fig.add_vline(mw, annotation={\"text\":f\"Mittelwert: {round(mw, 1)}\"})\n",
    "fig.update_yaxes(title_text=\"Anzahl Bestellungen\")"
   ]
  },
  {
   "cell_type": "code",
   "execution_count": null,
   "id": "54d8597b",
   "metadata": {},
   "outputs": [],
   "source": [
    "df = df.merge(df.groupby([\"county\"], as_index=False).size().rename(columns={\"size\":\"order_size_per_county\"}))\n",
    "df = df.merge(df.loc[df.department == \"produce\"].groupby([\"county\"], as_index=False).size().rename(columns={\"size\":\"order_size_produce_per_county\"}))\n",
    "df[\"relative_produce_per_county\"] = round(df.order_size_produce_per_county / df.order_size_per_county * 100, 2)"
   ]
  },
  {
   "cell_type": "code",
   "execution_count": null,
   "id": "689d6a83",
   "metadata": {},
   "outputs": [],
   "source": [
    "fig = make_subplots(specs=[[{\"secondary_y\": True}]])\n",
    "df_anteil = df.groupby([\"county\", \"relative_produce_per_county\"], as_index=False).size().sort_values([\"relative_produce_per_county\"], ascending=False)\n",
    "df_anzahl = df.groupby([\"county\", \"order_size_produce_per_county\"], as_index=False).size().sort_values([\"order_size_produce_per_county\"], ascending=False)\n",
    "fig1 = px.line(df_anteil, x=\"county\", y=\"relative_produce_per_county\")\n",
    "fig2 = px.bar(df_anzahl, x=\"county\", y=\"order_size_produce_per_county\")\n",
    "fig2.update_traces(yaxis=\"y2\")\n",
    "fig.update_yaxes(title_text=\"Anteil an allen Bestellungen\", secondary_y=False, color=\"red\")\n",
    "fig.update_yaxes(title_text=\"Anzahl an Bestellungen\", secondary_y=True, color=\"blue\")\n",
    "fig.add_traces(fig1.data + fig2.data)\n",
    "fig.update_traces(line=dict(color=\"Red\"), secondary_y=False)\n",
    "fig.update_traces(marker=dict(color=\"Blue\"), secondary_y=True)\n",
    "fig.update_layout(title_text=\"Bestellungen von Produkten aus dem Department \\\"produce\\\"\")\n",
    "fig.show()"
   ]
  },
  {
   "cell_type": "code",
   "execution_count": null,
   "id": "dafead7e",
   "metadata": {},
   "outputs": [],
   "source": [
    "df_department_count = df.groupby([\"county\", \"department\"], as_index=False).size().rename(columns={\"size\":\"order_per_department_per_county\"})\n",
    "df_department_count.groupby(\"county\")[[\"order_per_department_per_county\"]]\n",
    "df_department_count[\"department_rank\"] = df_department_count.groupby(\"county\")[[\"order_per_department_per_county\"]].rank(method=\"dense\", ascending=False)\n",
    "px.sunburst(df_department_count.loc[df_department_count[\"department\"] == \"produce\"].merge(df[[\"county\", \"department\", \"order_size_per_county\"]].drop_duplicates()), path=[\"department_rank\", \"county\", \"order_size_per_county\"])"
   ]
  },
  {
   "cell_type": "code",
   "execution_count": null,
   "id": "b71bbae2",
   "metadata": {},
   "outputs": [],
   "source": [
    "df_temp = df_department_count.loc[df_department_count[\"department\"] == \"produce\"].merge(df[[\"county\", \"department\", \"order_size_per_county\"]].drop_duplicates())\n",
    "counties_temp = df_temp.loc[df_temp[\"department_rank\"] == 2, \"county\"]\n",
    "df_department_count.loc[(df_department_count[\"department_rank\"] <= 2) & (df_department_count[\"county\"].isin(counties_temp))]"
   ]
  },
  {
   "cell_type": "code",
   "execution_count": null,
   "id": "6fbd3154",
   "metadata": {},
   "outputs": [],
   "source": [
    "px.sunburst(df_department_count.loc[df_department_count[\"department\"] == \"dairy eggs\"].merge(df[[\"county\", \"department\", \"order_size_per_county\"]].drop_duplicates()), path=[\"department_rank\", \"county\", \"order_size_per_county\"])"
   ]
  },
  {
   "cell_type": "code",
   "execution_count": null,
   "id": "c72216b1",
   "metadata": {},
   "outputs": [],
   "source": [
    "fig = px.choropleth_mapbox(data_frame=df_anteil, geojson=counties, \n",
    "                           featureidkey='properties.name', locations='county',\n",
    "                           color='relative_produce_per_county',\n",
    "                           mapbox_style=\"carto-positron\",\n",
    "                           zoom=4.2, center = {\"lat\":  37.17571858166602, \"lon\": -119.41580973739858},\n",
    "                           height=500,\n",
    "                           labels={'relative_produce_per_county': 'Produce-Artikel Anteil'},\n",
    "                           title=\"Keine räumliche Systematik erkennbar\",\n",
    "                           color_continuous_scale=\"RdYlGn\"\n",
    "                          )\n",
    "fig.show()"
   ]
  },
  {
   "cell_type": "markdown",
   "id": "2ac52eca-d35d-405e-8623-e14eea70cbf4",
   "metadata": {},
   "source": [
    "### D.3: Welche Counties sind sich ähnlich in Hinblick auf die jeweiligen „Top 10“-Produkte? "
   ]
  },
  {
   "cell_type": "code",
   "execution_count": null,
   "id": "88b354b1-020a-44d1-87bc-0379a50d2605",
   "metadata": {},
   "outputs": [],
   "source": [
    "# DataFrame mit allen Counties und der Anzahl verkaufter Produkte pro County\n",
    "county_count = pd.DataFrame(df['county'].value_counts()).reset_index().rename(columns={'index': 'county', 'county': 'count'})"
   ]
  },
  {
   "cell_type": "code",
   "execution_count": null,
   "id": "0e4ea1aa-57cd-4598-acd4-6b58bdd5ea57",
   "metadata": {},
   "outputs": [],
   "source": [
    "# Liste mit allen Counties zum Iterieren\n",
    "counties_i = county_count['county'].unique().tolist()\n",
    "\n",
    "# Liste mit den Top10-Produkten für jedes County\n",
    "county_list_top10 = []\n",
    "for county in counties_i:\n",
    "    county = df_product_count_s[(df_product_count_s['county']==county)&(df_product_count_s['ranking_in_products'].isin(np.arange(1,11)))].sort_values(by='ranking_in_products').reset_index().drop(axis=1, labels='index')\n",
    "    county_list_top10.append(county)\n",
    "    \n",
    "# Liste, um Länge der Top10-Listen festzustellen (Länge > 10 häufig bei Counties mit wenigen verkauften Produkten)\n",
    "length_of_top10 = []\n",
    "for i in range(len(county_list_top10)):\n",
    "    length_of_top10.append({i: len(county_list_top10[i])})  \n",
    "\n",
    "# Liste mit Counties, bei denen die Länge = 10    \n",
    "index = []\n",
    "for i in range(len(length_of_top10)):\n",
    "    if length_of_top10[i][i] == 10:\n",
    "        index.append(list(length_of_top10[i].keys())[0])\n",
    "    else:\n",
    "        pass\n",
    "\n",
    "# Liste mit allen Counties mit Länge = 10 zum iterieren \n",
    "counties_i2 = county_count['county'].iloc[index].tolist()\n",
    "\n",
    "# Liste mit den Top10-Produkten pro County mit zehn Produkten\n",
    "county_list_top10 = []\n",
    "for county in counties_i2:\n",
    "    county = df_product_count_s[(df_product_count_s['county']==county)&(df_product_count_s['ranking_in_products'].isin(np.arange(1,11)))].sort_values(by='ranking_in_products').reset_index().drop(axis=1, labels='index')\n",
    "    county_list_top10.append(county)"
   ]
  },
  {
   "cell_type": "code",
   "execution_count": null,
   "id": "d871ed1f-3f3a-4b11-9525-5424d73ad022",
   "metadata": {},
   "outputs": [],
   "source": [
    "import itertools\n",
    "similar_index = []\n",
    "county1 = []\n",
    "county2 = []\n",
    "i1 = []\n",
    "i2 = []\n",
    "index = range(len(county_list_top10))\n",
    "for a, b in itertools.combinations(index, 2):\n",
    "    similar_index.append(((county_list_top10[a]['product_id'] == county_list_top10[b]['product_id']).sum()/10) ) # Top10-Produkte werden verglichen\n",
    "    county1.append(str(county_list_top10[a]['county'].unique())[2:-2])\n",
    "    i1.append(a)\n",
    "    county2.append(str(county_list_top10[b]['county'].unique())[2:-2])\n",
    "    i2.append(b)"
   ]
  },
  {
   "cell_type": "code",
   "execution_count": null,
   "id": "a78957df-d831-4ccb-8cae-994f71c1905e",
   "metadata": {},
   "outputs": [],
   "source": [
    "# DataFrame mit zwei Counties und deren similar_index\n",
    "similar_counties = pd.DataFrame(data={'county_1': county1, 'index1': i1, 'county_2': county2, 'index2': i2, 'similar_index': similar_index})"
   ]
  },
  {
   "cell_type": "code",
   "execution_count": null,
   "id": "86dd523c-e5cc-43c4-bace-3581a7cee11f",
   "metadata": {},
   "outputs": [],
   "source": [
    "similar_counties.sort_values(by='similar_index', ascending=False).head(15)"
   ]
  },
  {
   "cell_type": "markdown",
   "id": "1190002c-030f-41b1-91da-93c0071f27a0",
   "metadata": {},
   "source": [
    "Diese Tabelle zeigt die 15 Countypaare an, die sich am stärksten ähneln."
   ]
  },
  {
   "cell_type": "markdown",
   "id": "1cda8b38-712b-42c6-a53b-c6e4dcaf2bb0",
   "metadata": {},
   "source": [
    "## Anderer Ansatz (K-Nearest-Neighbors)"
   ]
  },
  {
   "cell_type": "code",
   "execution_count": null,
   "id": "dd652de7-a221-4cdb-b067-90bc75a1399a",
   "metadata": {},
   "outputs": [],
   "source": [
    "# DataFrame mit allen Top10-Produkten pro County\n",
    "df_t = df_product_count_s[df_product_count_s['ranking_in_products'].isin(np.arange(1,11))]\n",
    "df_t"
   ]
  },
  {
   "cell_type": "code",
   "execution_count": null,
   "id": "ba909d43-d3e0-4ad7-9bdb-610b0840aa6f",
   "metadata": {},
   "outputs": [],
   "source": [
    "# Index für jedes County\n",
    "county_idx = pd.DataFrame(df['county'].value_counts()).reset_index().rename(columns={'index': 'county', 'county': 'count'}).reset_index().rename(columns={'index': 'county_id'})\n",
    "county_idx = county_idx.drop(axis=1, labels='count')\n",
    "county_idx['county_id'] = county_idx['county_id'] + 1"
   ]
  },
  {
   "cell_type": "code",
   "execution_count": null,
   "id": "54c4e505-37e0-421b-91f9-fc545599b527",
   "metadata": {},
   "outputs": [],
   "source": [
    "# neuer Index für jedes Produkt, dass in den Top10 vorkommt\n",
    "product_idx = pd.DataFrame(df_t['product_id'].value_counts()).reset_index().rename(columns={'index': 'product', 'product_id': 'count'}).reset_index().rename(columns={'index': 'n_product_id'})\n",
    "product_idx = product_idx.drop(axis=1, labels='count')\n",
    "product_idx['n_product_id'] = product_idx['n_product_id'] + 1"
   ]
  },
  {
   "cell_type": "code",
   "execution_count": null,
   "id": "977364f2-3060-436f-af07-3c5ef697034d",
   "metadata": {},
   "outputs": [],
   "source": [
    "# neue Indexe an DF joinen\n",
    "df_t = df_t.merge(county_idx, on='county')\n",
    "df_t = df_t.merge(product_idx, left_on='product_id', right_on='product')"
   ]
  },
  {
   "cell_type": "code",
   "execution_count": null,
   "id": "95a9b5df-e547-4009-9112-8650820a86a1",
   "metadata": {},
   "outputs": [],
   "source": [
    "df_t.head(20)"
   ]
  },
  {
   "cell_type": "code",
   "execution_count": null,
   "id": "7aa2c0fd-7e50-4698-b55a-bc6c88f072cd",
   "metadata": {},
   "outputs": [],
   "source": [
    "from scipy.sparse import coo_matrix\n",
    "\n",
    "# Erstellen der Matrix\n",
    "\n",
    "n_rows = len(df_t.county_id.unique())\n",
    "n_cols = len(df_t.n_product_id.unique())\n",
    "\n",
    "row = df_t[\"county_id\"] - 1\n",
    "col = df_t[\"n_product_id\"] - 1\n",
    "data = df_t[\"ranking_in_products\"]\n",
    "county_product_matrix_s = coo_matrix((data, (row, col)), shape=(n_rows, n_cols))\n",
    "county_product_matrix = county_product_matrix_s.toarray()"
   ]
  },
  {
   "cell_type": "code",
   "execution_count": null,
   "id": "224ce2a0-ec50-48a4-a9bf-d61aa9556d67",
   "metadata": {},
   "outputs": [],
   "source": [
    "# Für bessere verarbeitung wird Matrix als DF gespeichert\n",
    "county_product_matrix = pd.DataFrame(county_product_matrix)\n",
    "county_product_matrix = county_product_matrix.mask(county_product_matrix == 0)"
   ]
  },
  {
   "cell_type": "code",
   "execution_count": null,
   "id": "d1e698fd-d979-4050-81cf-7b78164149e4",
   "metadata": {},
   "outputs": [],
   "source": [
    "# Distanzen zwischen Counties werden berechnet\n",
    "dist = 1 - county_product_matrix.T.corr()\n",
    "dist = np.abs(dist.fillna(2)).values # wenn NaN-Wert, größt mögliche Distanz (also 2)"
   ]
  },
  {
   "cell_type": "code",
   "execution_count": null,
   "id": "a08b2b8a-c9c4-4831-ab6f-77f02e0f0793",
   "metadata": {},
   "outputs": [],
   "source": [
    "# Map IDs zu Index\n",
    "product_mapper = dict(zip(np.unique(df_t[\"n_product_id\"]), list(range(n_cols))))\n",
    "county_mapper = dict(zip(np.unique(df_t[\"county_id\"]), list(range(n_rows))))\n",
    "      \n",
    "# Map Index zu IDs\n",
    "product_inv_mapper = dict(zip(list(range(n_cols)), np.unique(df_t[\"n_product_id\"])))\n",
    "county_inv_mapper = dict(zip(list(range(n_rows)), np.unique(df_t[\"county_id\"])))"
   ]
  },
  {
   "cell_type": "code",
   "execution_count": null,
   "id": "9facd292-e035-4a0e-84f4-4faa53ccd325",
   "metadata": {},
   "outputs": [],
   "source": [
    "from sklearn.neighbors import NearestNeighbors\n",
    "def find_similar_counties(county_id, X, k, metric='precomputed', show_distance=False):\n",
    "      \n",
    "    neighbour_ids = []\n",
    "      \n",
    "    county_ind = county_mapper[county_id]\n",
    "    county_vec = X[county_ind]\n",
    "    k+=1\n",
    "    kNN = NearestNeighbors(n_neighbors=k, algorithm=\"auto\", metric=metric)\n",
    "    kNN.fit(X)\n",
    "    county_vec = county_vec.reshape(1,-1)\n",
    "    neighbour = kNN.kneighbors(county_vec, return_distance=show_distance)\n",
    "    for i in range(0,k):\n",
    "        n = neighbour.item(i)\n",
    "        neighbour_ids.append(county_inv_mapper[n])\n",
    "    neighbour_ids.pop(0)\n",
    "    return neighbour_ids"
   ]
  },
  {
   "cell_type": "code",
   "execution_count": null,
   "id": "5e510789-cc9c-4af7-9fc2-5472aefaf5d7",
   "metadata": {},
   "outputs": [],
   "source": [
    "county_names = dict(zip(county_idx['county_id'], county_idx['county']))"
   ]
  },
  {
   "cell_type": "markdown",
   "id": "8538662e-510e-4241-be78-4731e21d9f88",
   "metadata": {},
   "source": [
    "Hier kann man nun eingeben, zu welchem County man die fünf nächsten Nachbarn angezeigt haben will"
   ]
  },
  {
   "cell_type": "code",
   "execution_count": null,
   "id": "66868abe-89ba-462f-8ba7-33628ec50ecd",
   "metadata": {},
   "outputs": [],
   "source": [
    "county_id = 1\n",
    "similar_ids = find_similar_counties(county_id, dist, 5)\n",
    "county_name = county_names[county_id]\n",
    "print(f\"Ähnliche Counties von: {county_name}\")\n",
    "for i in similar_ids:\n",
    "    print(county_names[i])"
   ]
  },
  {
   "cell_type": "markdown",
   "id": "36bdd30a",
   "metadata": {},
   "source": [
    "# Random Forrest Modell (zu Aufgabe P.4)"
   ]
  },
  {
   "cell_type": "markdown",
   "id": "b2f20df2",
   "metadata": {},
   "source": [
    "Hier werden zwei neue Spalten berechnet für das Reorder Verhalten der User. Da diese zu berechnen aber sehr lange dauert haben wir uns dazu entschieden, diese als Dateien zu speichern und bei bedarf einzulesen um Zeit zu sparen"
   ]
  },
  {
   "cell_type": "code",
   "execution_count": null,
   "id": "f9480307",
   "metadata": {},
   "outputs": [],
   "source": [
    "# grouped_df = df.groupby(['user_id', 'order_number'])\n",
    "# results = []\n",
    "\n",
    "# for name, group in grouped_df:\n",
    "#     n = group[group['reordered'] == True].count()[0]\n",
    "#     N = group.count()[0]\n",
    "#     percentage = n/N\n",
    "#     results.append({'user_id': name[0], 'order_number': name[1], 'percentage_reordered': percentage})\n",
    "\n",
    "# result_df = pd.DataFrame(results)\n",
    "\n",
    "# grouped_df2 = df.groupby('user_id')\n",
    "# results2 = []\n",
    "\n",
    "\n",
    "# for name, group in grouped_df2:\n",
    "#     n = group[group['reordered'] == True].count()[0]\n",
    "#     N = group.count()[0]\n",
    "#     percentage = n/N\n",
    "#     results2.append({'user_id': name, 'percentage_reordered': percentage})\n",
    "\n",
    "# result_df2 = pd.DataFrame(results2)"
   ]
  },
  {
   "cell_type": "markdown",
   "id": "a9344ac3",
   "metadata": {},
   "source": [
    "Ab hier wird das Random Forest Modell vorbereitet, trainiert, getestet und abschließen die Metriken zur Überprüfung des Modells (Accuracy, Precision, Recall) ausgegeben um zu schauen wie gut das Modell vorhersagen konnte, ob es bei einer Bestellung Trinkgeld geben wird. Als letztens wurde dann noch die Feature Importance ausgegeben, um nachzuvollziehen welche Attribute / Parameter, dass Modell am stärksten für diese Vorhersage gewichtet hat."
   ]
  },
  {
   "cell_type": "code",
   "execution_count": null,
   "id": "8c6f2a26",
   "metadata": {},
   "outputs": [],
   "source": [
    "# result_df = pd.read_csv(\"result_df.csv\")\n",
    "# result_df2= pd.read_csv(\"result2_df.csv\")\n",
    "# result_df2.rename(columns={'percentage_reordered':'percentage_reordered_full'}, inplace=True)\n",
    "# df = df.merge(result_df)\n",
    "# df = df.merge(result_df2)\n",
    "\n",
    "# X = df.copy()\n",
    "# X = X.drop(axis=1, labels=['product_name', 'department', 'aisle'], errors='ignore')\n",
    "# y = X.pop('tip')\n",
    "\n",
    "# from sklearn.impute import SimpleImputer\n",
    "# from sklearn.preprocessing import LabelEncoder\n",
    "\n",
    "# imp = SimpleImputer(missing_values=np.NaN, strategy='constant', fill_value=0)\n",
    "# imp = imp.fit(X[['days_since_prior_order']])\n",
    "\n",
    "# X['days_since_prior_order'] = imp.transform(X[['days_since_prior_order']])\n",
    "\n",
    "# encoder = LabelEncoder()\n",
    "# encoder = encoder.fit(X['county'])\n",
    "# X['county'] = encoder.transform(X['county'])\n",
    "\n",
    "# from sklearn.model_selection import train_test_split\n",
    "\n",
    "# X_train, X_test, y_train, y_test = train_test_split(X, y, test_size=0.3, random_state=42)\n",
    "\n",
    "# from sklearn.ensemble import RandomForestClassifier \n",
    "# rf = RandomForestClassifier(n_estimators=500, max_depth=20, min_samples_split=10)\n",
    "\n",
    "# rf.fit(X_train, y_train)\n",
    "\n",
    "# y_pred_train = rf.predict(X_train)\n",
    "# y_pred_test = rf.predict(X_test)\n",
    "\n",
    "# from sklearn.metrics import accuracy_score, recall_score, precision_score\n",
    "\n",
    "# print(f\"{'Accuracy Training':17} {accuracy_score(y_train, y_pred_train):10.5f}, {'Accuracy Test':17} {accuracy_score(y_test, y_pred_test):10.5f}\")\n",
    "# print(f\"{'Recall Training':17} {recall_score(y_train, y_pred_train):10.5f}, {'Recall Test':17} {recall_score(y_test, y_pred_test):10.5f}\") \n",
    "# print(f\"{'Precision Training':17} {precision_score(y_train, y_pred_train):10.5f}, {'Precision Test':17} {precision_score(y_test, y_pred_test):10.5f}\") \n",
    "\n",
    "# ## Feature importance \n",
    "# feature_col_tree = list(X.columns)\n",
    "\n",
    "# plt.figure(figsize=(15,10))\n",
    "# importance = rf.feature_importances_\n",
    "# idxs = np.argsort(importance)\n",
    "# plt.title(\"Feature Importance\")\n",
    "# plt.barh(range(len(idxs)),importance[idxs],align=\"center\")\n",
    "# plt.yticks(range(len(idxs)),[feature_col_tree[i] for i in idxs])\n",
    "# plt.xlabel(\"Random Forest Feature Importance\")\n",
    "# plt.tight_layout()\n",
    "# plt.show()"
   ]
  },
  {
   "cell_type": "markdown",
   "id": "6f485066",
   "metadata": {},
   "source": [
    "![alt text](Bilder\\ML_RF_Accuracy.png \"Screenshot\")"
   ]
  },
  {
   "cell_type": "markdown",
   "id": "97ea127d",
   "metadata": {},
   "source": [
    "![alt text](Bilder\\output2.png \"Screenshot\")"
   ]
  }
 ],
 "metadata": {
  "kernelspec": {
   "display_name": "base",
   "language": "python",
   "name": "python3"
  },
  "language_info": {
   "codemirror_mode": {
    "name": "ipython",
    "version": 3
   },
   "file_extension": ".py",
   "mimetype": "text/x-python",
   "name": "python",
   "nbconvert_exporter": "python",
   "pygments_lexer": "ipython3",
   "version": "3.9.13 (main, Aug 25 2022, 23:51:50) [MSC v.1916 64 bit (AMD64)]"
  },
  "vscode": {
   "interpreter": {
    "hash": "679ca3d7e10d4fea823e60e28cb6f57bfb034a2481868839314afba603aaea83"
   }
  }
 },
 "nbformat": 4,
 "nbformat_minor": 5
}
